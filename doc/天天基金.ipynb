{
 "cells": [
  {
   "cell_type": "markdown",
   "id": "9e423733",
   "metadata": {},
   "source": [
    "参考：https://github.com/XDTD/fund_crawler\n",
    "http://fund.eastmoney.com/pingzhongdata/000001.js\n",
    "公司列表(Github上直接打开好像会提示not found,复制到浏览器上方直接进入即可)：http://fund.eastmoney.com/js/jjjz_gs.js\n",
    "基金列表：http://fund.eastmoney.com/js/fundcode_search.js\n",
    "基金信息1：http://fund.eastmoney.com/pingzhongdata/'+code+'.js‘ 其中,code为6位整数，如000001的URL位=为http://fund.eastmoney.com/pingzhongdata/000001.js\n",
    "基金信息2:http://fund.eastmoney.com/f10/tsdata_'+code+'.html'，同上\n",
    "基金经理信息:http://fundf10.eastmoney.com/jjjl_'+code+'.html',同上\n"
   ]
  },
  {
   "cell_type": "code",
   "execution_count": 4,
   "id": "91b8d1db",
   "metadata": {},
   "outputs": [
    {
     "name": "stderr",
     "output_type": "stream",
     "text": [
      "DEBUG : Starting new HTTP connection (1): fund.eastmoney.com\n",
      "DEBUG : http://fund.eastmoney.com:80 \"GET /pingzhongdata/151001.js HTTP/1.1\" 200 106424\n"
     ]
    },
    {
     "name": "stdout",
     "output_type": "stream",
     "text": [
      "基金[151001]经理：#'30413768' 袁曦 管理时间5年又255天 基金规模23.54亿(3只基金)\n"
     ]
    }
   ],
   "source": [
    "import requests\n",
    "import re\n",
    "import yaml\n",
    "import logging\n",
    "import json\n",
    "logging.basicConfig(format='%(levelname)s : %(message)s',\n",
    "                    level=logging.DEBUG,\n",
    "                    handlers=[logging.StreamHandler()])\n",
    "\n",
    "\n",
    "logger = logging.getLogger(__name__)\n",
    "\n",
    "\n",
    "def get_resonse(url):\n",
    "    \"\"\"\n",
    "    :param url: 网页URL\n",
    "    :return: 爬取的文本信息\n",
    "    \"\"\"\n",
    "    try:\n",
    "        r = requests.get(url)\n",
    "        r.raise_for_status()\n",
    "        r.encoding = 'utf-8'\n",
    "        return r.text\n",
    "    except:\n",
    "        print('Failed to get response to url!')\n",
    "        return ''\n",
    "\n",
    "def get_fund_info(code):\n",
    "    failed_list = []\n",
    "    data_list = {}\n",
    "    url = 'http://fund.eastmoney.com/pingzhongdata/'+code+'.js'\n",
    "    response = get_resonse(url)\n",
    "    # 爬取失败等待再次爬取\n",
    "    if response is '':\n",
    "        return ''\n",
    "    else:\n",
    "        strs = re.findall(r'var(.*?);',response)\n",
    "        for i in range(0,len(strs)):\n",
    "            tmp = strs[i].split('=')\n",
    "            var_name = tmp[0].strip()\n",
    "            data_list[var_name] = [tmp[1]]\n",
    "        return data_list\n",
    "\n",
    "code = \"151001\"\n",
    "data = get_fund_info(code)\n",
    "\n",
    "manager_list = data.get('Data_currentFundManager',None)\n",
    "if manager_list is None or len(manager_list)==0:\n",
    "    print(\"找不到基金经理\")\n",
    "    exit()\n",
    "\n",
    "for manager in manager_list:\n",
    "    manager = json.loads(manager)[0]\n",
    "    print(\"基金[%s]经理：#%r %s 管理时间%s 基金规模%s\" %          \n",
    "         (code,\n",
    "          manager['id'],\n",
    "          manager['name'],\n",
    "          manager['workTime'],\n",
    "          manager['fundSize']))          "
   ]
  },
  {
   "cell_type": "code",
   "execution_count": 28,
   "id": "826969a0",
   "metadata": {},
   "outputs": [
    {
     "name": "stderr",
     "output_type": "stream",
     "text": [
      "DEBUG : Starting new HTTPS connection (1): fundf10.eastmoney.com\n",
      "DEBUG : https://fundf10.eastmoney.com:443 \"GET /jjjl_151001.html HTTP/1.1\" 200 41626\n"
     ]
    },
    {
     "name": "stdout",
     "output_type": "stream",
     "text": [
      "2021-03-05\n",
      "2021-03-12\n",
      "钱睿南 袁曦 \n",
      "7天\n",
      "-3.78%\n"
     ]
    }
   ],
   "source": [
    "from bs4 import BeautifulSoup\n",
    "\n",
    "def get_fund_manager(code):\n",
    "    url = \"https://fundf10.eastmoney.com/jjjl_{}.html\".format(code)\n",
    "    content = get_resonse(url)\n",
    "    soup = BeautifulSoup(content)  \n",
    "    results = soup.select(\".detail .txt_cont .boxitem table tbody tr\")\n",
    "    # print(results[0])\n",
    "    manager = results[1]\n",
    "    tds = manager.find_all('td')\n",
    "    for td in tds:\n",
    "        print(td.text)\n",
    "\n",
    "    \n",
    "get_fund_manager(\"151001\")\n",
    "\n"
   ]
  },
  {
   "cell_type": "code",
   "execution_count": null,
   "id": "61cd7f15",
   "metadata": {},
   "outputs": [],
   "source": []
  }
 ],
 "metadata": {
  "kernelspec": {
   "display_name": "Python 3",
   "language": "python",
   "name": "python3"
  },
  "language_info": {
   "codemirror_mode": {
    "name": "ipython",
    "version": 3
   },
   "file_extension": ".py",
   "mimetype": "text/x-python",
   "name": "python",
   "nbconvert_exporter": "python",
   "pygments_lexer": "ipython3",
   "version": "3.6.4"
  }
 },
 "nbformat": 4,
 "nbformat_minor": 5
}
