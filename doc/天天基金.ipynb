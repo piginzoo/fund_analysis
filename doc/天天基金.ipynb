{
 "cells": [
  {
   "cell_type": "markdown",
   "id": "2831f717",
   "metadata": {},
   "source": [
    "参考：https://github.com/XDTD/fund_crawler\n",
    "http://fund.eastmoney.com/pingzhongdata/000001.js\n",
    "公司列表(Github上直接打开好像会提示not found,复制到浏览器上方直接进入即可)：http://fund.eastmoney.com/js/jjjz_gs.js\n",
    "基金列表：http://fund.eastmoney.com/js/fundcode_search.js\n",
    "基金信息1：http://fund.eastmoney.com/pingzhongdata/'+code+'.js‘ 其中,code为6位整数，如000001的URL位=为http://fund.eastmoney.com/pingzhongdata/000001.js\n",
    "基金信息2:http://fund.eastmoney.com/f10/tsdata_'+code+'.html'，同上\n",
    "基金经理信息:http://fundf10.eastmoney.com/jjjl_'+code+'.html',同上\n"
   ]
  },
  {
   "cell_type": "code",
   "execution_count": 11,
   "id": "e5c7e770",
   "metadata": {},
   "outputs": [
    {
     "name": "stderr",
     "output_type": "stream",
     "text": [
      "DEBUG : Starting new HTTP connection (1): fund.eastmoney.com\n",
      "DEBUG : http://fund.eastmoney.com:80 \"GET /pingzhongdata/151001.js HTTP/1.1\" 200 106151\n"
     ]
    },
    {
     "name": "stdout",
     "output_type": "stream",
     "text": [
      "<class 'str'>\n",
      "30413768\n",
      "5年又242天\n",
      "23.54亿(3只基金)\n"
     ]
    }
   ],
   "source": [
    "import requests\n",
    "import re\n",
    "import yaml\n",
    "import logging\n",
    "import json\n",
    "logging.basicConfig(format='%(levelname)s : %(message)s',\n",
    "                    level=logging.DEBUG,\n",
    "                    handlers=[logging.StreamHandler()])\n",
    "\n",
    "\n",
    "logger = logging.getLogger(__name__)\n",
    "\n",
    "\n",
    "def get_resonse(url):\n",
    "    \"\"\"\n",
    "    :param url: 网页URL\n",
    "    :return: 爬取的文本信息\n",
    "    \"\"\"\n",
    "    try:\n",
    "        r = requests.get(url)\n",
    "        r.raise_for_status()\n",
    "        r.encoding = 'utf-8'\n",
    "        return r.text\n",
    "    except:\n",
    "        print('Failed to get response to url!')\n",
    "        return ''\n",
    "\n",
    "def get_fund_info(code):\n",
    "    failed_list = []\n",
    "    data_list = {}\n",
    "    url = 'http://fund.eastmoney.com/pingzhongdata/'+code+'.js'\n",
    "    response = get_resonse(url)\n",
    "    # 爬取失败等待再次爬取\n",
    "    if response is '':\n",
    "        return ''\n",
    "    else:\n",
    "        strs = re.findall(r'var(.*?);',response)\n",
    "        for i in range(0,len(strs)):\n",
    "            tmp = strs[i].split('=')\n",
    "            var_name = tmp[0].strip()\n",
    "            data_list[var_name] = [tmp[1]]\n",
    "        return data_list\n",
    "\n",
    "data = get_fund_info(\"151001\")\n",
    "\n",
    "print(type(data['Data_currentFundManager'][0]))\n",
    "\n",
    "data = data['Data_currentFundManager'][0]\n",
    "data = json.loads(data)[0]\n",
    "\n",
    "print(data['id'])\n",
    "print(data['workTime'])\n",
    "print(data['fundSize'])\n",
    "\n",
    "id=data['id']"
   ]
  },
  {
   "cell_type": "code",
   "execution_count": null,
   "id": "746b8ef2",
   "metadata": {},
   "outputs": [],
   "source": []
  }
 ],
 "metadata": {
  "kernelspec": {
   "display_name": "Python 3",
   "language": "python",
   "name": "python3"
  },
  "language_info": {
   "codemirror_mode": {
    "name": "ipython",
    "version": 3
   },
   "file_extension": ".py",
   "mimetype": "text/x-python",
   "name": "python",
   "nbconvert_exporter": "python",
   "pygments_lexer": "ipython3",
   "version": "3.6.4"
  }
 },
 "nbformat": 4,
 "nbformat_minor": 5
}
