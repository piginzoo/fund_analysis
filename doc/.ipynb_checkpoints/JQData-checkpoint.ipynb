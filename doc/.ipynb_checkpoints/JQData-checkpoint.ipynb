{
 "cells": [
  {
   "cell_type": "markdown",
   "id": "b5dc6d8e",
   "metadata": {},
   "source": [
    "# 测试一下jd都能干啥"
   ]
  },
  {
   "cell_type": "markdown",
   "id": "f8bdf2e2",
   "metadata": {},
   "source": [
    "## 准备"
   ]
  },
  {
   "cell_type": "code",
   "execution_count": 9,
   "id": "6d7febe0",
   "metadata": {},
   "outputs": [
    {
     "name": "stderr",
     "output_type": "stream",
     "text": [
      "INFO : 登录到jqdata成功\n"
     ]
    }
   ],
   "source": [
    "import logging\n",
    "from jqdatasdk import *\n",
    "import yaml\n",
    "\n",
    "logging.basicConfig(format='%(levelname)s : %(message)s',\n",
    "                    level=logging.DEBUG,\n",
    "                    handlers=[logging.StreamHandler()])\n",
    "logger = logging.getLogger(__name__)\n",
    "\n",
    "f = open(\"../conf/config.yml\", 'r', encoding='utf-8')\n",
    "result = f.read()\n",
    "conf = yaml.load(result, Loader=yaml.FullLoader)\n",
    "uid = str(conf['jqdata']['uid'])\n",
    "pwd = conf['jqdata']['pwd']  # 账号是申请时所填写的手机号；密码为聚宽官网登录密码，新申请用户默认为手机号后6位\n",
    "auth(uid, pwd)\n",
    "logger.info(\"登录到jqdata成功\")\n"
   ]
  },
  {
   "cell_type": "markdown",
   "id": "5611bf96",
   "metadata": {},
   "source": [
    "## 查询"
   ]
  },
  {
   "cell_type": "code",
   "execution_count": null,
   "id": "f6b8f764",
   "metadata": {},
   "outputs": [],
   "source": [
    "from jqdatasdk import finance\n",
    "from jqdatasdk import query\n",
    "\n",
    "# 121005,国投瑞银创新动力,孙文龙,国投瑞银\n",
    "main_code='121005'\n",
    "n = 10\n",
    "\n",
    "finance.run_query(query(finance.FUND_MAIN_INFO).filter(finance.FUND_MAIN_INFO.main_code==main_code).limit(n))\n",
    "finance.run_query(query(finance.FUND_MAIN_INFO).filter(finance.FUND_MAIN_INFO.main_code==main_code).limit(n))"
   ]
  },
  {
   "cell_type": "markdown",
   "id": "b09b623d",
   "metadata": {},
   "source": []
  }
 ],
 "metadata": {
  "kernelspec": {
   "display_name": "Python 3",
   "language": "python",
   "name": "python3"
  },
  "language_info": {
   "codemirror_mode": {
    "name": "ipython",
    "version": 3
   },
   "file_extension": ".py",
   "mimetype": "text/x-python",
   "name": "python",
   "nbconvert_exporter": "python",
   "pygments_lexer": "ipython3",
   "version": "3.6.4"
  }
 },
 "nbformat": 4,
 "nbformat_minor": 5
}
