{
 "cells": [
  {
   "cell_type": "markdown",
   "id": "83c9432d",
   "metadata": {},
   "source": [
    "# 测试一下jd都能干啥"
   ]
  },
  {
   "cell_type": "markdown",
   "id": "336914f8",
   "metadata": {},
   "source": [
    "## 准备"
   ]
  },
  {
   "cell_type": "code",
   "execution_count": 9,
   "id": "2c2996da",
   "metadata": {},
   "outputs": [
    {
     "name": "stderr",
     "output_type": "stream",
     "text": [
      "INFO : 登录到jqdata成功\n"
     ]
    }
   ],
   "source": [
    "import logging\n",
    "from jqdatasdk import *\n",
    "import yaml\n",
    "\n",
    "logging.basicConfig(format='%(levelname)s : %(message)s',\n",
    "                    level=logging.DEBUG,\n",
    "                    handlers=[logging.StreamHandler()])\n",
    "logger = logging.getLogger(__name__)\n",
    "\n",
    "f = open(\"../conf/config.yml\", 'r', encoding='utf-8')\n",
    "result = f.read()\n",
    "conf = yaml.load(result, Loader=yaml.FullLoader)\n",
    "uid = str(conf['jqdata']['uid'])\n",
    "pwd = conf['jqdata']['pwd']  # 账号是申请时所填写的手机号；密码为聚宽官网登录密码，新申请用户默认为手机号后6位\n",
    "auth(uid, pwd)\n",
    "logger.info(\"登录到jqdata成功\")\n"
   ]
  },
  {
   "cell_type": "markdown",
   "id": "35b3a206",
   "metadata": {},
   "source": [
    "## 查询"
   ]
  },
  {
   "cell_type": "code",
   "execution_count": 12,
   "id": "cf475791",
   "metadata": {},
   "outputs": [
    {
     "name": "stderr",
     "output_type": "stream",
     "text": [
      "DEBUG : Starting new HTTPS connection (1): dataapi.joinquant.com\n",
      "DEBUG : https://dataapi.joinquant.com:443 \"POST /apis HTTP/1.1\" 200 62\n"
     ]
    },
    {
     "data": {
      "text/html": [
       "<div>\n",
       "<style scoped>\n",
       "    .dataframe tbody tr th:only-of-type {\n",
       "        vertical-align: middle;\n",
       "    }\n",
       "\n",
       "    .dataframe tbody tr th {\n",
       "        vertical-align: top;\n",
       "    }\n",
       "\n",
       "    .dataframe thead th {\n",
       "        text-align: right;\n",
       "    }\n",
       "</style>\n",
       "<table border=\"1\" class=\"dataframe\">\n",
       "  <thead>\n",
       "    <tr style=\"text-align: right;\">\n",
       "      <th></th>\n",
       "      <th>id</th>\n",
       "      <th>main_code</th>\n",
       "      <th>statistics_main_code</th>\n",
       "      <th>name</th>\n",
       "      <th>advisor</th>\n",
       "      <th>trustee</th>\n",
       "      <th>operate_mode_id</th>\n",
       "      <th>operate_mode</th>\n",
       "      <th>underlying_asset_type_id</th>\n",
       "      <th>underlying_asset_type</th>\n",
       "      <th>invest_style_id</th>\n",
       "      <th>invest_style</th>\n",
       "      <th>start_date</th>\n",
       "      <th>end_date</th>\n",
       "    </tr>\n",
       "  </thead>\n",
       "  <tbody>\n",
       "    <tr>\n",
       "      <th>0</th>\n",
       "      <td>3510</td>\n",
       "      <td>121005</td>\n",
       "      <td>None</td>\n",
       "      <td>国投瑞银创新动力混合</td>\n",
       "      <td>国投瑞银基金管理有限公司</td>\n",
       "      <td>中国光大银行股份有限公司</td>\n",
       "      <td>401001</td>\n",
       "      <td>开放式基金</td>\n",
       "      <td>402004</td>\n",
       "      <td>混合型</td>\n",
       "      <td>005005</td>\n",
       "      <td>偏股混合型</td>\n",
       "      <td>2006-11-15</td>\n",
       "      <td>None</td>\n",
       "    </tr>\n",
       "  </tbody>\n",
       "</table>\n",
       "</div>"
      ],
      "text/plain": [
       "     id main_code statistics_main_code        name       advisor  \\\n",
       "0  3510    121005                 None  国投瑞银创新动力混合  国投瑞银基金管理有限公司   \n",
       "\n",
       "        trustee  operate_mode_id operate_mode  underlying_asset_type_id  \\\n",
       "0  中国光大银行股份有限公司           401001        开放式基金                    402004   \n",
       "\n",
       "  underlying_asset_type invest_style_id invest_style  start_date end_date  \n",
       "0                   混合型          005005        偏股混合型  2006-11-15     None  "
      ]
     },
     "execution_count": 12,
     "metadata": {},
     "output_type": "execute_result"
    }
   ],
   "source": [
    "from jqdatasdk import finance\n",
    "from jqdatasdk import query\n",
    "\n",
    "# 121005,国投瑞银创新动力,孙文龙,国投瑞银\n",
    "main_code='121005'\n",
    "n = 10\n",
    "\n",
    "finance.run_query(query(finance.FUND_MAIN_INFO).filter(finance.FUND_MAIN_INFO.main_code==main_code).limit(n))\n",
    "finance.run_query(query(finance.FUND_MAIN_INFO).filter(finance.FUND_MAIN_INFO.main_code==main_code).limit(n))"
   ]
  },
  {
   "cell_type": "markdown",
   "id": "100a63b2",
   "metadata": {},
   "source": []
  }
 ],
 "metadata": {
  "kernelspec": {
   "display_name": "Python 3",
   "language": "python",
   "name": "python3"
  },
  "language_info": {
   "codemirror_mode": {
    "name": "ipython",
    "version": 3
   },
   "file_extension": ".py",
   "mimetype": "text/x-python",
   "name": "python",
   "nbconvert_exporter": "python",
   "pygments_lexer": "ipython3",
   "version": "3.6.4"
  }
 },
 "nbformat": 4,
 "nbformat_minor": 5
}
