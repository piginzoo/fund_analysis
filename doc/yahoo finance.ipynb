{
 "cells": [
  {
   "cell_type": "code",
   "execution_count": null,
   "id": "e05ba7d6",
   "metadata": {},
   "outputs": [],
   "source": [
    "测试yaooo finance"
   ]
  },
  {
   "cell_type": "code",
   "execution_count": null,
   "id": "dee35d7b",
   "metadata": {},
   "outputs": [],
   "source": [
    "import pandas as pd\n",
    "from pandas_datareader import data as wb\n",
    "\n",
    "ticker='BTC-USD'\n",
    "\n",
    "ticker=wb.DataReader(ticker,start='2019-1-1',data_source='yahoo')\n",
    "print(ticker)"
   ]
  },
  {
   "cell_type": "code",
   "execution_count": null,
   "id": "b8582fe2",
   "metadata": {},
   "outputs": [
    {
     "name": "stderr",
     "output_type": "stream",
     "text": [
      "Exception in thread Thread-4:\n",
      "Traceback (most recent call last):\n",
      "  File \"/Users/piginzoo/software/python3/lib/python3.6/site-packages/urllib3/connectionpool.py\", line 601, in urlopen\n",
      "    chunked=chunked)\n",
      "  File \"/Users/piginzoo/software/python3/lib/python3.6/site-packages/urllib3/connectionpool.py\", line 346, in _make_request\n",
      "    self._validate_conn(conn)\n",
      "  File \"/Users/piginzoo/software/python3/lib/python3.6/site-packages/urllib3/connectionpool.py\", line 850, in _validate_conn\n",
      "    conn.connect()\n",
      "  File \"/Users/piginzoo/software/python3/lib/python3.6/site-packages/urllib3/connection.py\", line 326, in connect\n",
      "    ssl_context=context)\n",
      "  File \"/Users/piginzoo/software/python3/lib/python3.6/site-packages/urllib3/util/ssl_.py\", line 329, in ssl_wrap_socket\n",
      "    return context.wrap_socket(sock, server_hostname=server_hostname)\n",
      "  File \"/Library/Frameworks/Python.framework/Versions/3.6/lib/python3.6/ssl.py\", line 407, in wrap_socket\n",
      "    _context=self, _session=session)\n",
      "  File \"/Library/Frameworks/Python.framework/Versions/3.6/lib/python3.6/ssl.py\", line 814, in __init__\n",
      "    self.do_handshake()\n",
      "  File \"/Library/Frameworks/Python.framework/Versions/3.6/lib/python3.6/ssl.py\", line 1068, in do_handshake\n",
      "    self._sslobj.do_handshake()\n",
      "  File \"/Library/Frameworks/Python.framework/Versions/3.6/lib/python3.6/ssl.py\", line 689, in do_handshake\n",
      "    self._sslobj.do_handshake()\n",
      "TimeoutError: [Errno 60] Operation timed out\n",
      "\n",
      "During handling of the above exception, another exception occurred:\n",
      "\n",
      "Traceback (most recent call last):\n",
      "  File \"/Users/piginzoo/software/python3/lib/python3.6/site-packages/requests/adapters.py\", line 449, in send\n",
      "    timeout=timeout\n",
      "  File \"/Users/piginzoo/software/python3/lib/python3.6/site-packages/urllib3/connectionpool.py\", line 639, in urlopen\n",
      "    _stacktrace=sys.exc_info()[2])\n",
      "  File \"/Users/piginzoo/software/python3/lib/python3.6/site-packages/urllib3/util/retry.py\", line 357, in increment\n",
      "    raise six.reraise(type(error), error, _stacktrace)\n",
      "  File \"/Users/piginzoo/software/python3/lib/python3.6/site-packages/urllib3/packages/six.py\", line 685, in reraise\n",
      "    raise value.with_traceback(tb)\n",
      "  File \"/Users/piginzoo/software/python3/lib/python3.6/site-packages/urllib3/connectionpool.py\", line 601, in urlopen\n",
      "    chunked=chunked)\n",
      "  File \"/Users/piginzoo/software/python3/lib/python3.6/site-packages/urllib3/connectionpool.py\", line 346, in _make_request\n",
      "    self._validate_conn(conn)\n",
      "  File \"/Users/piginzoo/software/python3/lib/python3.6/site-packages/urllib3/connectionpool.py\", line 850, in _validate_conn\n",
      "    conn.connect()\n",
      "  File \"/Users/piginzoo/software/python3/lib/python3.6/site-packages/urllib3/connection.py\", line 326, in connect\n",
      "    ssl_context=context)\n",
      "  File \"/Users/piginzoo/software/python3/lib/python3.6/site-packages/urllib3/util/ssl_.py\", line 329, in ssl_wrap_socket\n",
      "    return context.wrap_socket(sock, server_hostname=server_hostname)\n",
      "  File \"/Library/Frameworks/Python.framework/Versions/3.6/lib/python3.6/ssl.py\", line 407, in wrap_socket\n",
      "    _context=self, _session=session)\n",
      "  File \"/Library/Frameworks/Python.framework/Versions/3.6/lib/python3.6/ssl.py\", line 814, in __init__\n",
      "    self.do_handshake()\n",
      "  File \"/Library/Frameworks/Python.framework/Versions/3.6/lib/python3.6/ssl.py\", line 1068, in do_handshake\n",
      "    self._sslobj.do_handshake()\n",
      "  File \"/Library/Frameworks/Python.framework/Versions/3.6/lib/python3.6/ssl.py\", line 689, in do_handshake\n",
      "    self._sslobj.do_handshake()\n",
      "urllib3.exceptions.ProtocolError: ('Connection aborted.', TimeoutError(60, 'Operation timed out'))\n",
      "\n",
      "During handling of the above exception, another exception occurred:\n",
      "\n",
      "Traceback (most recent call last):\n",
      "  File \"/Library/Frameworks/Python.framework/Versions/3.6/lib/python3.6/threading.py\", line 916, in _bootstrap_inner\n",
      "    self.run()\n",
      "  File \"/Library/Frameworks/Python.framework/Versions/3.6/lib/python3.6/threading.py\", line 864, in run\n",
      "    self._target(*self._args, **self._kwargs)\n",
      "  File \"/Users/piginzoo/software/python3/lib/python3.6/site-packages/multitasking/__init__.py\", line 102, in _run_via_pool\n",
      "    return callee(*args, **kwargs)\n",
      "  File \"/Users/piginzoo/software/python3/lib/python3.6/site-packages/yfinance/multi.py\", line 168, in _download_one_threaded\n",
      "    actions, period, interval, prepost, proxy, rounding)\n",
      "  File \"/Users/piginzoo/software/python3/lib/python3.6/site-packages/yfinance/multi.py\", line 183, in _download_one\n",
      "    rounding=rounding, many=True)\n",
      "  File \"/Users/piginzoo/software/python3/lib/python3.6/site-packages/yfinance/base.py\", line 152, in history\n",
      "    data = self.session.get(url=url, params=params, proxies=proxy)\n",
      "  File \"/Users/piginzoo/software/python3/lib/python3.6/site-packages/requests/api.py\", line 76, in get\n",
      "    return request('get', url, params=params, **kwargs)\n",
      "  File \"/Users/piginzoo/software/python3/lib/python3.6/site-packages/requests/api.py\", line 61, in request\n",
      "    return session.request(method=method, url=url, **kwargs)\n",
      "  File \"/Users/piginzoo/software/python3/lib/python3.6/site-packages/requests/sessions.py\", line 542, in request\n",
      "    resp = self.send(prep, **send_kwargs)\n",
      "  File \"/Users/piginzoo/software/python3/lib/python3.6/site-packages/requests/sessions.py\", line 655, in send\n",
      "    r = adapter.send(request, **kwargs)\n",
      "  File \"/Users/piginzoo/software/python3/lib/python3.6/site-packages/requests/adapters.py\", line 498, in send\n",
      "    raise ConnectionError(err, request=request)\n",
      "requests.exceptions.ConnectionError: ('Connection aborted.', TimeoutError(60, 'Operation timed out'))\n",
      "\n"
     ]
    }
   ],
   "source": [
    "import yfinance as yf\n",
    "data = yf.download('SPY', start='2019-11-01', end='2019-12-01')\n",
    "print(data)\n"
   ]
  },
  {
   "cell_type": "code",
   "execution_count": null,
   "id": "65a72dde",
   "metadata": {},
   "outputs": [],
   "source": [
    "import logging\n",
    "from jqdatasdk import *\n",
    "import yaml\n",
    "import tushare as ts\n",
    "\n",
    "logging.basicConfig(format='%(levelname)s : %(message)s',\n",
    "                    level=logging.DEBUG,\n",
    "                    handlers=[logging.StreamHandler()])\n",
    "logger = logging.getLogger(__name__)\n",
    "\n",
    "f = open(\"../conf/config.yml\", 'r', encoding='utf-8')\n",
    "result = f.read()\n",
    "conf = yaml.load(result, Loader=yaml.FullLoader)\n",
    "token = conf['tushare']['token']\n",
    "\n",
    "ts.set_token(token)\n",
    "pro = ts.pro_api()"
   ]
  }
 ],
 "metadata": {
  "kernelspec": {
   "display_name": "Python 3",
   "language": "python",
   "name": "python3"
  },
  "language_info": {
   "codemirror_mode": {
    "name": "ipython",
    "version": 3
   },
   "file_extension": ".py",
   "mimetype": "text/x-python",
   "name": "python",
   "nbconvert_exporter": "python",
   "pygments_lexer": "ipython3",
   "version": "3.6.4"
  }
 },
 "nbformat": 4,
 "nbformat_minor": 5
}
